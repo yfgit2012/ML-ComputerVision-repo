{
 "cells": [
  {
   "cell_type": "markdown",
   "metadata": {},
   "source": [
    "# Face Recognition\n",
    "\n",
    "In this assignment, you will build a face recognition system. Many of the ideas presented here are from [FaceNet](https://arxiv.org/pdf/1503.03832.pdf). In lecture, we also talked about [DeepFace](https://research.fb.com/wp-content/uploads/2016/11/deepface-closing-the-gap-to-human-level-performance-in-face-verification.pdf). \n",
    "\n",
    "Face recognition problems commonly fall into two categories: \n",
    "\n",
    "- **Face Verification** - \"is this the claimed person?\". For example, at some airports, you can pass through customs by letting a system scan your passport and then verifying that you (the person carrying the passport) are the correct person. A mobile phone that unlocks using your face is also using face verification. This is a 1:1 matching problem. \n",
    "- **Face Recognition** - \"who is this person?\". For example, the video lecture showed a [face recognition video](https://www.youtube.com/watch?v=wr4rx0Spihs) of Baidu employees entering the office without needing to otherwise identify themselves. This is a 1:K matching problem. \n",
    "\n",
    "FaceNet learns a neural network that encodes a face image into a vector of 128 numbers. By comparing two such vectors, you can then determine if two pictures are of the same person.\n",
    "    \n",
    "**In this assignment, you will:**\n",
    "- Implement the triplet loss function\n",
    "- Use a pretrained model to map face images into 128-dimensional encodings\n",
    "- Use these encodings to perform face verification and face recognition\n",
    "\n",
    "#### Channels-first notation\n",
    "\n",
    "* In this exercise, we will be using a pre-trained model which represents ConvNet activations using a **\"channels first\"** convention, as opposed to the \"channels last\" convention used in lecture and previous programming assignments. \n",
    "* In other words, a batch of images will be of shape $(m, n_C, n_H, n_W)$ instead of $(m, n_H, n_W, n_C)$. \n",
    "* Both of these conventions have a reasonable amount of traction among open-source implementations; there isn't a uniform standard yet within the deep learning community. "
   ]
  },
  {
   "cell_type": "markdown",
   "metadata": {},
   "source": [
    "## <font color='darkblue'>Updates</font>\n",
    "\n",
    "#### If you were working on the notebook before this update...\n",
    "* The current notebook is version \"3a\".\n",
    "* You can find your original work saved in the notebook with the previous version name (\"v3\") \n",
    "* To view the file directory, go to the menu \"File->Open\", and this will open a new tab that shows the file directory.\n",
    "\n",
    "#### List of updates\n",
    "* `triplet_loss`: Additional Hints added.\n",
    "* `verify`: Hints added.\n",
    "* `who_is_it`: corrected hints given in the comments.\n",
    "* Spelling and formatting updates for easier reading.\n"
   ]
  },
  {
   "cell_type": "markdown",
   "metadata": {},
   "source": [
    "#### Load packages\n",
    "Let's load the required packages. "
   ]
  },
  {
   "cell_type": "code",
   "execution_count": 5,
   "metadata": {},
   "outputs": [
    {
     "name": "stdout",
     "output_type": "stream",
     "text": [
      "Requirement already satisfied: opencv-python in c:\\users\\fbai_\\appdata\\local\\continuum\\anaconda3\\lib\\site-packages (4.5.5.64)\n",
      "Requirement already satisfied: numpy>=1.14.5 in c:\\users\\fbai_\\appdata\\local\\continuum\\anaconda3\\lib\\site-packages (from opencv-python) (1.21.2)\n"
     ]
    },
    {
     "name": "stderr",
     "output_type": "stream",
     "text": [
      "WARNING: Ignoring invalid distribution -umpy (c:\\users\\fbai_\\appdata\\local\\continuum\\anaconda3\\lib\\site-packages)\n",
      "WARNING: Ignoring invalid distribution -umpy (c:\\users\\fbai_\\appdata\\local\\continuum\\anaconda3\\lib\\site-packages)\n",
      "WARNING: Ignoring invalid distribution -umpy (c:\\users\\fbai_\\appdata\\local\\continuum\\anaconda3\\lib\\site-packages)\n",
      "WARNING: Ignoring invalid distribution -umpy (c:\\users\\fbai_\\appdata\\local\\continuum\\anaconda3\\lib\\site-packages)\n",
      "WARNING: Ignoring invalid distribution -umpy (c:\\users\\fbai_\\appdata\\local\\continuum\\anaconda3\\lib\\site-packages)\n",
      "WARNING: Ignoring invalid distribution -umpy (c:\\users\\fbai_\\appdata\\local\\continuum\\anaconda3\\lib\\site-packages)\n",
      "WARNING: You are using pip version 21.3.1; however, version 22.0.4 is available.\n",
      "You should consider upgrading via the 'c:\\users\\fbai_\\appdata\\local\\continuum\\anaconda3\\python.exe -m pip install --upgrade pip' command.\n"
     ]
    },
    {
     "name": "stdout",
     "output_type": "stream",
     "text": [
      "Collecting frutils\n",
      "  Downloading frutils-1.0.1-py2.py3-none-any.whl (52 kB)\n",
      "Collecting stevedore>=1.30.1\n",
      "  Downloading stevedore-3.5.0-py3-none-any.whl (49 kB)\n",
      "Collecting pprintpp>=0.4.0\n",
      "  Downloading pprintpp-0.4.0-py2.py3-none-any.whl (16 kB)\n",
      "Collecting jinja2schema>=0.1.4\n",
      "  Downloading jinja2schema-0.1.4.tar.gz (19 kB)\n",
      "  Preparing metadata (setup.py): started\n",
      "  Preparing metadata (setup.py): finished with status 'done'\n",
      "Requirement already satisfied: jinja2>=2.10 in c:\\users\\fbai_\\appdata\\local\\continuum\\anaconda3\\lib\\site-packages (from frutils) (2.10.1)\n",
      "Collecting logzero>=1.5.0\n",
      "  Downloading logzero-1.7.0-py2.py3-none-any.whl (16 kB)\n",
      "Requirement already satisfied: future>=0.16.0 in c:\\users\\fbai_\\appdata\\local\\continuum\\anaconda3\\lib\\site-packages (from frutils) (0.17.1)\n",
      "Collecting passlib>=1.7.1\n",
      "  Downloading passlib-1.7.4-py2.py3-none-any.whl (525 kB)\n",
      "Requirement already satisfied: six>=1.12.0 in c:\\users\\fbai_\\appdata\\local\\continuum\\anaconda3\\lib\\site-packages (from frutils) (1.12.0)\n",
      "Collecting dogpile.cache>=0.7.1\n",
      "  Downloading dogpile.cache-1.1.5-py3-none-any.whl (51 kB)\n",
      "Requirement already satisfied: pyOpenSSL>=0.14 in c:\\users\\fbai_\\appdata\\local\\continuum\\anaconda3\\lib\\site-packages (from frutils) (19.0.0)\n",
      "Requirement already satisfied: tqdm>=4.31.1 in c:\\users\\fbai_\\appdata\\local\\continuum\\anaconda3\\lib\\site-packages (from frutils) (4.32.1)\n",
      "Collecting Cerberus>=1.2\n",
      "  Downloading Cerberus-1.3.4.tar.gz (63 kB)\n",
      "  Installing build dependencies: started\n",
      "  Installing build dependencies: finished with status 'done'\n",
      "  Getting requirements to build wheel: started\n",
      "  Getting requirements to build wheel: finished with status 'done'\n",
      "  Preparing metadata (pyproject.toml): started\n",
      "  Preparing metadata (pyproject.toml): finished with status 'done'\n",
      "Collecting fasteners>=0.15\n",
      "  Downloading fasteners-0.17.3-py3-none-any.whl (18 kB)\n",
      "Requirement already satisfied: requests[security]>=2.20.0 in c:\\users\\fbai_\\appdata\\local\\continuum\\anaconda3\\lib\\site-packages (from frutils) (2.22.0)\n",
      "Collecting text-unidecode==1.2\n",
      "  Downloading text_unidecode-1.2-py2.py3-none-any.whl (77 kB)\n",
      "Collecting dpath==1.4.2\n",
      "  Downloading dpath-1.4.2.tar.gz (14 kB)\n",
      "  Preparing metadata (setup.py): started\n",
      "  Preparing metadata (setup.py): finished with status 'done'\n",
      "Collecting blessings>=1.7\n",
      "  Downloading blessings-1.7-py3-none-any.whl (18 kB)\n",
      "Collecting click-completion==0.5.0\n",
      "  Downloading click-completion-0.5.0.tar.gz (10.0 kB)\n",
      "  Preparing metadata (setup.py): started\n",
      "  Preparing metadata (setup.py): finished with status 'done'\n",
      "Collecting appdirs==1.4.3\n",
      "  Using cached appdirs-1.4.3-py2.py3-none-any.whl (12 kB)\n",
      "Collecting plumbum>=1.6.7\n",
      "  Downloading plumbum-1.7.2-py2.py3-none-any.whl (117 kB)\n",
      "Collecting inflection==0.3.1\n",
      "  Downloading inflection-0.3.1.tar.gz (8.7 kB)\n",
      "  Preparing metadata (setup.py): started\n",
      "  Preparing metadata (setup.py): finished with status 'done'\n",
      "Collecting frkl.mdv==1.7.5\n",
      "  Downloading frkl.mdv-1.7.5-py2.py3-none-any.whl (134 kB)\n",
      "Requirement already satisfied: cryptography>=1.3.4 in c:\\users\\fbai_\\appdata\\local\\continuum\\anaconda3\\lib\\site-packages (from frutils) (2.7)\n",
      "Requirement already satisfied: idna>=2.0.0 in c:\\users\\fbai_\\appdata\\local\\continuum\\anaconda3\\lib\\site-packages (from frutils) (2.8)\n",
      "Collecting ruamel.yaml[jinja2]>=0.15.81\n",
      "  Downloading ruamel.yaml-0.17.21-py3-none-any.whl (109 kB)\n",
      "Requirement already satisfied: Click>=7.0 in c:\\users\\fbai_\\appdata\\local\\continuum\\anaconda3\\lib\\site-packages (from frutils) (7.0)\n",
      "Collecting halo>=0.0.28\n",
      "  Downloading halo-0.0.31.tar.gz (11 kB)\n",
      "  Preparing metadata (setup.py): started\n",
      "  Preparing metadata (setup.py): finished with status 'done'\n",
      "Collecting pexpect==4.7.0\n",
      "  Downloading pexpect-4.7.0-py2.py3-none-any.whl (58 kB)\n",
      "Requirement already satisfied: toml>=0.10.0 in c:\\users\\fbai_\\appdata\\local\\continuum\\anaconda3\\lib\\site-packages (from frutils) (0.10.1)\n",
      "Collecting pp-ez>=0.2.0\n",
      "  Downloading pp_ez-0.2.0-py2.py3-none-any.whl (3.3 kB)\n",
      "Collecting python-slugify==3.0.2\n",
      "  Downloading python-slugify-3.0.2.tar.gz (7.9 kB)\n",
      "  Preparing metadata (setup.py): started\n",
      "  Preparing metadata (setup.py): finished with status 'done'\n",
      "Collecting click-log>=0.3.2\n",
      "  Downloading click_log-0.4.0-py2.py3-none-any.whl (4.3 kB)\n",
      "Collecting omegaconf==1.3.0\n",
      "  Downloading omegaconf-1.3.0-py3-none-any.whl (13 kB)\n",
      "Collecting treelib>=1.5.3\n",
      "  Downloading treelib-1.6.1.tar.gz (24 kB)\n",
      "  Preparing metadata (setup.py): started\n",
      "  Preparing metadata (setup.py): finished with status 'done'\n",
      "Collecting cursor==1.2.0\n",
      "  Downloading cursor-1.2.0.tar.gz (1.7 kB)\n",
      "  Preparing metadata (setup.py): started\n",
      "  Preparing metadata (setup.py): finished with status 'done'\n",
      "Collecting shellingham\n",
      "  Downloading shellingham-1.4.0-py2.py3-none-any.whl (9.4 kB)\n",
      "Requirement already satisfied: pygments in c:\\users\\fbai_\\appdata\\local\\continuum\\anaconda3\\lib\\site-packages (from frkl.mdv==1.7.5->frutils) (2.4.2)\n",
      "Requirement already satisfied: markdown in c:\\users\\fbai_\\appdata\\local\\continuum\\anaconda3\\lib\\site-packages (from frkl.mdv==1.7.5->frutils) (3.1.1)\n",
      "Collecting tabulate\n",
      "  Using cached tabulate-0.8.9-py3-none-any.whl (25 kB)\n",
      "Requirement already satisfied: PyYAML in c:\\users\\fbai_\\appdata\\local\\continuum\\anaconda3\\lib\\site-packages (from omegaconf==1.3.0->frutils) (5.1.1)\n",
      "Requirement already satisfied: ptyprocess>=0.5 in c:\\users\\fbai_\\appdata\\local\\continuum\\anaconda3\\lib\\site-packages (from pexpect==4.7.0->frutils) (0.7.0)\n",
      "Requirement already satisfied: setuptools in c:\\users\\fbai_\\appdata\\local\\continuum\\anaconda3\\lib\\site-packages (from Cerberus>=1.2->frutils) (41.0.1)\n",
      "Requirement already satisfied: asn1crypto>=0.21.0 in c:\\users\\fbai_\\appdata\\local\\continuum\\anaconda3\\lib\\site-packages (from cryptography>=1.3.4->frutils) (0.24.0)\n",
      "Requirement already satisfied: cffi!=1.11.3,>=1.8 in c:\\users\\fbai_\\appdata\\local\\continuum\\anaconda3\\lib\\site-packages (from cryptography>=1.3.4->frutils) (1.12.3)\n",
      "Requirement already satisfied: decorator>=4.0.0 in c:\\users\\fbai_\\appdata\\local\\continuum\\anaconda3\\lib\\site-packages (from dogpile.cache>=0.7.1->frutils) (4.4.0)\n",
      "Collecting log_symbols>=0.0.14\n",
      "  Downloading log_symbols-0.0.14-py3-none-any.whl (3.1 kB)\n",
      "Collecting spinners>=0.0.24\n",
      "  Downloading spinners-0.0.24-py3-none-any.whl (5.5 kB)\n",
      "Requirement already satisfied: termcolor>=1.1.0 in c:\\users\\fbai_\\appdata\\local\\continuum\\anaconda3\\lib\\site-packages (from halo>=0.0.28->frutils) (1.1.0)\n",
      "Requirement already satisfied: colorama>=0.3.9 in c:\\users\\fbai_\\appdata\\local\\continuum\\anaconda3\\lib\\site-packages (from halo>=0.0.28->frutils) (0.4.1)\n",
      "Requirement already satisfied: MarkupSafe>=0.23 in c:\\users\\fbai_\\appdata\\local\\continuum\\anaconda3\\lib\\site-packages (from jinja2>=2.10->frutils) (1.1.1)\n",
      "Requirement already satisfied: pywin32 in c:\\users\\fbai_\\appdata\\local\\continuum\\anaconda3\\lib\\site-packages (from plumbum>=1.6.7->frutils) (223)\n",
      "Requirement already satisfied: certifi>=2017.4.17 in c:\\users\\fbai_\\appdata\\local\\continuum\\anaconda3\\lib\\site-packages (from requests[security]>=2.20.0->frutils) (2020.12.5)\n",
      "Requirement already satisfied: chardet<3.1.0,>=3.0.2 in c:\\users\\fbai_\\appdata\\local\\continuum\\anaconda3\\lib\\site-packages (from requests[security]>=2.20.0->frutils) (3.0.4)\n",
      "Requirement already satisfied: urllib3!=1.25.0,!=1.25.1,<1.26,>=1.21.1 in c:\\users\\fbai_\\appdata\\local\\continuum\\anaconda3\\lib\\site-packages (from requests[security]>=2.20.0->frutils) (1.24.2)\n",
      "Collecting ruamel.yaml.clib>=0.2.6\n",
      "  Downloading ruamel.yaml.clib-0.2.6-cp37-cp37m-win_amd64.whl (115 kB)\n",
      "Collecting ruamel.yaml.jinja2>=0.2\n",
      "  Downloading ruamel.yaml.jinja2-0.2.7-py2.py3-none-any.whl (5.5 kB)\n",
      "Requirement already satisfied: importlib-metadata>=1.7.0 in c:\\users\\fbai_\\appdata\\local\\continuum\\anaconda3\\lib\\site-packages (from stevedore>=1.30.1->frutils) (2.0.0)\n",
      "Collecting pbr!=2.1.0,>=2.0.0\n",
      "  Downloading pbr-5.8.1-py2.py3-none-any.whl (113 kB)\n",
      "Requirement already satisfied: pycparser in c:\\users\\fbai_\\appdata\\local\\continuum\\anaconda3\\lib\\site-packages (from cffi!=1.11.3,>=1.8->cryptography>=1.3.4->frutils) (2.19)\n",
      "Requirement already satisfied: zipp>=0.5 in c:\\users\\fbai_\\appdata\\local\\continuum\\anaconda3\\lib\\site-packages (from importlib-metadata>=1.7.0->stevedore>=1.30.1->frutils) (0.5.1)\n",
      "Building wheels for collected packages: click-completion, cursor, dpath, inflection, python-slugify, Cerberus, halo, jinja2schema, treelib\n",
      "  Building wheel for click-completion (setup.py): started\n",
      "  Building wheel for click-completion (setup.py): finished with status 'done'\n",
      "  Created wheel for click-completion: filename=click_completion-0.5.0-py3-none-any.whl size=11186 sha256=b90b5e9438e011e346b380ca218ff0ae9c7308019fd41f0e0a3caf91c77c3540\n",
      "  Stored in directory: c:\\users\\fbai_\\appdata\\local\\pip\\cache\\wheels\\c4\\54\\74\\09cd48f8088bec972d4b424c77b6b45fe14e67c584001b6c8e\n",
      "  Building wheel for cursor (setup.py): started\n",
      "  Building wheel for cursor (setup.py): finished with status 'done'\n",
      "  Created wheel for cursor: filename=cursor-1.2.0-py3-none-any.whl size=2499 sha256=a2019ee009053a0a5fc3c33bda323e863bcc9a5b99a05ce47f0003d725949a1d\n",
      "  Stored in directory: c:\\users\\fbai_\\appdata\\local\\pip\\cache\\wheels\\bb\\62\\1c\\19011e1fcab172e5dbcd106d210ced488a2b7c739f468751da\n",
      "  Building wheel for dpath (setup.py): started\n",
      "  Building wheel for dpath (setup.py): finished with status 'done'\n",
      "  Created wheel for dpath: filename=dpath-1.4.2-py3-none-any.whl size=12837 sha256=7bd943685552c9d9328b9438bb6c3e8cc4e51551ff00613e2d114f2cc3837fee\n",
      "  Stored in directory: c:\\users\\fbai_\\appdata\\local\\pip\\cache\\wheels\\5c\\55\\fe\\189fa5ffb22d5185f9fc946aa5a4a223fcef7f7addd514f685\n",
      "  Building wheel for inflection (setup.py): started\n",
      "  Building wheel for inflection (setup.py): finished with status 'done'\n",
      "  Created wheel for inflection: filename=inflection-0.3.1-py3-none-any.whl size=6080 sha256=4c408d56f704c89787f5dff3618bc0d7d8cc6e80fe1676f443e45775398f7ec1\n",
      "  Stored in directory: c:\\users\\fbai_\\appdata\\local\\pip\\cache\\wheels\\13\\61\\89\\9192774c0f1e6c3342354df9f4804d7a9de80ac88e062d2e56\n",
      "  Building wheel for python-slugify (setup.py): started\n",
      "  Building wheel for python-slugify (setup.py): finished with status 'done'\n",
      "  Created wheel for python-slugify: filename=python_slugify-3.0.2-py2.py3-none-any.whl size=4731 sha256=8e733c327c8d0c196689ca9ba682538e25d96699abaf97fa3cd4bbca9ec09bc8\n",
      "  Stored in directory: c:\\users\\fbai_\\appdata\\local\\pip\\cache\\wheels\\8c\\90\\35\\4a61072853db2a3e1c22e62becca9a779417ccd616bd520d67\n",
      "  Building wheel for Cerberus (pyproject.toml): started\n",
      "  Building wheel for Cerberus (pyproject.toml): finished with status 'done'\n",
      "  Created wheel for Cerberus: filename=Cerberus-1.3.4-py3-none-any.whl size=58196 sha256=19d361afd1ac995a1a6ce11c6849444589c0c1a5d6d863dd4a5c4eb000524163\n",
      "  Stored in directory: c:\\users\\fbai_\\appdata\\local\\pip\\cache\\wheels\\6c\\bd\\4b\\a3b7dcd0bc718e601a9ba7cba5f7c1d73fd777b6dc48d6eaa0\n",
      "  Building wheel for halo (setup.py): started\n",
      "  Building wheel for halo (setup.py): finished with status 'done'\n",
      "  Created wheel for halo: filename=halo-0.0.31-py3-none-any.whl size=11257 sha256=a84e2154ee9cf2069583823a7509082763c0956bc9b1d4bc8af7705179587445\n",
      "  Stored in directory: c:\\users\\fbai_\\appdata\\local\\pip\\cache\\wheels\\95\\ff\\20\\5d16a0059f20c5e60be2df845201e73af179a5a79a3d566f48\n",
      "  Building wheel for jinja2schema (setup.py): started\n",
      "  Building wheel for jinja2schema (setup.py): finished with status 'done'\n",
      "  Created wheel for jinja2schema: filename=jinja2schema-0.1.4-py3-none-any.whl size=23702 sha256=a75d9cf9d8f84424f64d96152d62ac0f2eaeb25676796f4f4c6c38df0141f900\n",
      "  Stored in directory: c:\\users\\fbai_\\appdata\\local\\pip\\cache\\wheels\\76\\de\\36\\06ff5ec446ce5c8701e38053ea7182ab810d071d416fe43a08\n",
      "  Building wheel for treelib (setup.py): started\n",
      "  Building wheel for treelib (setup.py): finished with status 'done'\n",
      "  Created wheel for treelib: filename=treelib-1.6.1-py3-none-any.whl size=18374 sha256=b1b3ba715f1f6051b0d1b68cafac188177f029a3dec2993d5b54fe75b2e89bbe\n",
      "  Stored in directory: c:\\users\\fbai_\\appdata\\local\\pip\\cache\\wheels\\89\\be\\94\\2c6d949ce599d1443426d83ba4dc93cd35c0f4638260930a53\n",
      "Successfully built click-completion cursor dpath inflection python-slugify Cerberus halo jinja2schema treelib\n",
      "Installing collected packages: ruamel.yaml.clib, ruamel.yaml, pbr, text-unidecode, tabulate, stevedore, spinners, shellingham, ruamel.yaml.jinja2, log-symbols, treelib, python-slugify, pprintpp, pp-ez, plumbum, pexpect, passlib, omegaconf, logzero, jinja2schema, inflection, halo, frkl.mdv, fasteners, dpath, dogpile.cache, cursor, click-log, click-completion, Cerberus, blessings, appdirs, frutils\n",
      "  Attempting uninstall: ruamel.yaml\n",
      "    Found existing installation: ruamel-yaml 0.15.46\n"
     ]
    },
    {
     "name": "stderr",
     "output_type": "stream",
     "text": [
      "WARNING: Ignoring invalid distribution -umpy (c:\\users\\fbai_\\appdata\\local\\continuum\\anaconda3\\lib\\site-packages)\n",
      "WARNING: Ignoring invalid distribution -umpy (c:\\users\\fbai_\\appdata\\local\\continuum\\anaconda3\\lib\\site-packages)\n",
      "WARNING: Ignoring invalid distribution -umpy (c:\\users\\fbai_\\appdata\\local\\continuum\\anaconda3\\lib\\site-packages)\n",
      "    WARNING: Ignoring invalid distribution -umpy (c:\\users\\fbai_\\appdata\\local\\continuum\\anaconda3\\lib\\site-packages)\n",
      "ERROR: Cannot uninstall 'ruamel-yaml'. It is a distutils installed project and thus we cannot accurately determine which files belong to it which would lead to only a partial uninstall.\n",
      "WARNING: Ignoring invalid distribution -umpy (c:\\users\\fbai_\\appdata\\local\\continuum\\anaconda3\\lib\\site-packages)\n",
      "WARNING: Ignoring invalid distribution -umpy (c:\\users\\fbai_\\appdata\\local\\continuum\\anaconda3\\lib\\site-packages)\n",
      "WARNING: Ignoring invalid distribution -umpy (c:\\users\\fbai_\\appdata\\local\\continuum\\anaconda3\\lib\\site-packages)\n",
      "WARNING: You are using pip version 21.3.1; however, version 22.0.4 is available.\n",
      "You should consider upgrading via the 'c:\\users\\fbai_\\appdata\\local\\continuum\\anaconda3\\python.exe -m pip install --upgrade pip' command.\n"
     ]
    }
   ],
   "source": [
    "!pip install opencv-python\n",
    "!pip install frutils"
   ]
  },
  {
   "cell_type": "code",
   "execution_count": 6,
   "metadata": {},
   "outputs": [
    {
     "ename": "ModuleNotFoundError",
     "evalue": "No module named 'fr_utils'",
     "output_type": "error",
     "traceback": [
      "\u001b[1;31m---------------------------------------------------------------------------\u001b[0m",
      "\u001b[1;31mModuleNotFoundError\u001b[0m                       Traceback (most recent call last)",
      "\u001b[1;32m<ipython-input-6-7bae747a1a03>\u001b[0m in \u001b[0;36m<module>\u001b[1;34m\u001b[0m\n\u001b[0;32m     16\u001b[0m \u001b[1;32mimport\u001b[0m \u001b[0mpandas\u001b[0m \u001b[1;32mas\u001b[0m \u001b[0mpd\u001b[0m\u001b[1;33m\u001b[0m\u001b[1;33m\u001b[0m\u001b[0m\n\u001b[0;32m     17\u001b[0m \u001b[1;32mimport\u001b[0m \u001b[0mtensorflow\u001b[0m \u001b[1;32mas\u001b[0m \u001b[0mtf\u001b[0m\u001b[1;33m\u001b[0m\u001b[1;33m\u001b[0m\u001b[0m\n\u001b[1;32m---> 18\u001b[1;33m \u001b[1;32mfrom\u001b[0m \u001b[0mfr_utils\u001b[0m \u001b[1;32mimport\u001b[0m \u001b[1;33m*\u001b[0m\u001b[1;33m\u001b[0m\u001b[1;33m\u001b[0m\u001b[0m\n\u001b[0m\u001b[0;32m     19\u001b[0m \u001b[1;32mfrom\u001b[0m \u001b[0minception_blocks_v2\u001b[0m \u001b[1;32mimport\u001b[0m \u001b[1;33m*\u001b[0m\u001b[1;33m\u001b[0m\u001b[1;33m\u001b[0m\u001b[0m\n\u001b[0;32m     20\u001b[0m \u001b[1;33m\u001b[0m\u001b[0m\n",
      "\u001b[1;31mModuleNotFoundError\u001b[0m: No module named 'fr_utils'"
     ]
    }
   ],
   "source": [
    "from keras.models import Sequential\n",
    "from keras.layers import Conv2D, ZeroPadding2D, Activation, Input, concatenate\n",
    "from keras.models import Model\n",
    "from keras.layers.normalization import BatchNormalization\n",
    "from keras.layers.pooling import MaxPooling2D, AveragePooling2D\n",
    "from keras.layers.merge import Concatenate\n",
    "from keras.layers.core import Lambda, Flatten, Dense\n",
    "from keras.initializers import glorot_uniform\n",
    "from keras.engine.topology import Layer\n",
    "from keras import backend as K\n",
    "K.set_image_data_format('channels_first')\n",
    "import cv2\n",
    "import os\n",
    "import numpy as np\n",
    "from numpy import genfromtxt\n",
    "import pandas as pd\n",
    "import tensorflow as tf\n",
    "from fr_utils import *\n",
    "from inception_blocks_v2 import *\n",
    "\n",
    "%matplotlib inline\n",
    "%load_ext autoreload\n",
    "%autoreload 2\n",
    "\n",
    "np.set_printoptions(threshold=np.nan)"
   ]
  },
  {
   "cell_type": "markdown",
   "metadata": {},
   "source": [
    "## 0 - Naive Face Verification\n",
    "\n",
    "In Face Verification, you're given two images and you have to determine if they are of the same person. The simplest way to do this is to compare the two images pixel-by-pixel. If the distance between the raw images are less than a chosen threshold, it may be the same person! \n",
    "\n",
    "<img src=\"images/pixel_comparison.png\" style=\"width:380px;height:150px;\">\n",
    "<caption><center> <u> <font color='purple'> **Figure 1** </u></center></caption>"
   ]
  },
  {
   "cell_type": "markdown",
   "metadata": {},
   "source": [
    "* Of course, this algorithm performs really poorly, since the pixel values change dramatically due to variations in lighting, orientation of the person's face, even minor changes in head position, and so on. \n",
    "* You'll see that rather than using the raw image, you can learn an encoding, $f(img)$.  \n",
    "* By using an encoding for each image, an element-wise comparison produces a more accurate judgement as to whether two pictures are of the same person."
   ]
  },
  {
   "cell_type": "markdown",
   "metadata": {},
   "source": [
    "## 1 - Encoding face images into a 128-dimensional vector \n",
    "\n",
    "### 1.1 - Using a ConvNet  to compute encodings\n",
    "\n",
    "The FaceNet model takes a lot of data and a long time to train. So following common practice in applied deep learning, let's  load weights that someone else has already trained. The network architecture follows the Inception model from [Szegedy *et al.*](https://arxiv.org/abs/1409.4842). We have provided an inception network implementation. You can look in the file `inception_blocks_v2.py` to see how it is implemented (do so by going to \"File->Open...\" at the top of the Jupyter notebook.  This opens the file directory that contains the '.py' file). "
   ]
  },
  {
   "cell_type": "markdown",
   "metadata": {},
   "source": [
    "The key things you need to know are:\n",
    "\n",
    "- This network uses 96x96 dimensional RGB images as its input. Specifically, inputs a face image (or batch of $m$ face images) as a tensor of shape $(m, n_C, n_H, n_W) = (m, 3, 96, 96)$ \n",
    "- It outputs a matrix of shape $(m, 128)$ that encodes each input face image into a 128-dimensional vector\n",
    "\n",
    "Run the cell below to create the model for face images."
   ]
  },
  {
   "cell_type": "code",
   "execution_count": 3,
   "metadata": {
    "collapsed": true
   },
   "outputs": [],
   "source": [
    "FRmodel = faceRecoModel(input_shape=(3, 96, 96))"
   ]
  },
  {
   "cell_type": "code",
   "execution_count": 4,
   "metadata": {},
   "outputs": [
    {
     "name": "stdout",
     "output_type": "stream",
     "text": [
      "Total Params: 3743280\n"
     ]
    }
   ],
   "source": [
    "print(\"Total Params:\", FRmodel.count_params())"
   ]
  },
  {
   "cell_type": "markdown",
   "metadata": {},
   "source": [
    "** Expected Output **\n",
    "<table>\n",
    "<center>\n",
    "Total Params: 3743280\n",
    "</center>\n",
    "</table>\n"
   ]
  },
  {
   "cell_type": "markdown",
   "metadata": {},
   "source": [
    "By using a 128-neuron fully connected layer as its last layer, the model ensures that the output is an encoding vector of size 128. You then use the encodings to compare two face images as follows:\n",
    "\n",
    "<img src=\"images/distance_kiank.png\" style=\"width:680px;height:250px;\">\n",
    "<caption><center> <u> <font color='purple'> **Figure 2**: <br> </u> <font color='purple'> By computing the distance between two encodings and thresholding, you can determine if the two pictures represent the same person</center></caption>\n",
    "\n",
    "So, an encoding is a good one if: \n",
    "- The encodings of two images of the same person are quite similar to each other. \n",
    "- The encodings of two images of different persons are very different.\n",
    "\n",
    "The triplet loss function formalizes this, and tries to \"push\" the encodings of two images of the same person (Anchor and Positive) closer together, while \"pulling\" the encodings of two images of different persons (Anchor, Negative) further apart. \n",
    "\n",
    "<img src=\"images/triplet_comparison.png\" style=\"width:280px;height:150px;\">\n",
    "<br>\n",
    "<caption><center> <u> <font color='purple'> **Figure 3**: <br> </u> <font color='purple'> In the next part, we will call the pictures from left to right: Anchor (A), Positive (P), Negative (N)  </center></caption>"
   ]
  },
  {
   "cell_type": "markdown",
   "metadata": {},
   "source": [
    "\n",
    "\n",
    "### 1.2 - The Triplet Loss\n",
    "\n",
    "For an image $x$, we denote its encoding $f(x)$, where $f$ is the function computed by the neural network.\n",
    "\n",
    "<img src=\"images/f_x.png\" style=\"width:380px;height:150px;\">\n",
    "\n",
    "<!--\n",
    "We will also add a normalization step at the end of our model so that $\\mid \\mid f(x) \\mid \\mid_2 = 1$ (means the vector of encoding should be of norm 1).\n",
    "!-->\n",
    "\n",
    "Training will use triplets of images $(A, P, N)$:  \n",
    "\n",
    "- A is an \"Anchor\" image--a picture of a person. \n",
    "- P is a \"Positive\" image--a picture of the same person as the Anchor image.\n",
    "- N is a \"Negative\" image--a picture of a different person than the Anchor image.\n",
    "\n",
    "These triplets are picked from our training dataset. We will write $(A^{(i)}, P^{(i)}, N^{(i)})$ to denote the $i$-th training example. \n",
    "\n",
    "You'd like to make sure that an image $A^{(i)}$ of an individual is closer to the Positive $P^{(i)}$ than to the Negative image $N^{(i)}$) by at least a margin $\\alpha$:\n",
    "\n",
    "$$\\mid \\mid f(A^{(i)}) - f(P^{(i)}) \\mid \\mid_2^2 + \\alpha < \\mid \\mid f(A^{(i)}) - f(N^{(i)}) \\mid \\mid_2^2$$\n",
    "\n",
    "You would thus like to minimize the following \"triplet cost\":\n",
    "\n",
    "$$\\mathcal{J} = \\sum^{m}_{i=1} \\large[ \\small \\underbrace{\\mid \\mid f(A^{(i)}) - f(P^{(i)}) \\mid \\mid_2^2}_\\text{(1)} - \\underbrace{\\mid \\mid f(A^{(i)}) - f(N^{(i)}) \\mid \\mid_2^2}_\\text{(2)} + \\alpha \\large ] \\small_+ \\tag{3}$$\n",
    "\n",
    "Here, we are using the notation \"$[z]_+$\" to denote $max(z,0)$.  \n",
    "\n",
    "Notes:\n",
    "- The term (1) is the squared distance between the anchor \"A\" and the positive \"P\" for a given triplet; you want this to be small. \n",
    "- The term (2) is the squared distance between the anchor \"A\" and the negative \"N\" for a given triplet, you want this to be relatively large. It has a minus sign preceding it because minimizing the negative of the term is the same as maximizing that term.\n",
    "- $\\alpha$ is called the margin. It is a hyperparameter that you pick manually. We will use $\\alpha = 0.2$. \n",
    "\n",
    "Most implementations also rescale the encoding vectors to haven L2 norm equal to one (i.e., $\\mid \\mid f(img)\\mid \\mid_2$=1); you won't have to worry about that in this assignment.\n",
    "\n",
    "**Exercise**: Implement the triplet loss as defined by formula (3). Here are the 4 steps:\n",
    "1. Compute the distance between the encodings of \"anchor\" and \"positive\": $\\mid \\mid f(A^{(i)}) - f(P^{(i)}) \\mid \\mid_2^2$\n",
    "2. Compute the distance between the encodings of \"anchor\" and \"negative\": $\\mid \\mid f(A^{(i)}) - f(N^{(i)}) \\mid \\mid_2^2$\n",
    "3. Compute the formula per training example: $ \\mid \\mid f(A^{(i)}) - f(P^{(i)}) \\mid \\mid_2^2 - \\mid \\mid f(A^{(i)}) - f(N^{(i)}) \\mid \\mid_2^2 + \\alpha$\n",
    "3. Compute the full formula by taking the max with zero and summing over the training examples:\n",
    "$$\\mathcal{J} = \\sum^{m}_{i=1} \\large[ \\small \\mid \\mid f(A^{(i)}) - f(P^{(i)}) \\mid \\mid_2^2 - \\mid \\mid f(A^{(i)}) - f(N^{(i)}) \\mid \\mid_2^2+ \\alpha \\large ] \\small_+ \\tag{3}$$\n",
    "\n",
    "#### Hints\n",
    "* Useful functions: `tf.reduce_sum()`, `tf.square()`, `tf.subtract()`, `tf.add()`, `tf.maximum()`.\n",
    "* For steps 1 and 2, you will sum over the entries of $\\mid \\mid f(A^{(i)}) - f(P^{(i)}) \\mid \\mid_2^2$ and $\\mid \\mid f(A^{(i)}) - f(N^{(i)}) \\mid \\mid_2^2$.  \n",
    "* For step 4 you will sum over the training examples.\n",
    "\n",
    "#### Additional Hints\n",
    "* Recall that the square of the L2 norm is the sum of the squared differences: $||x - y||_{2}^{2} = \\sum_{i=1}^{N}(x_{i} - y_{i})^{2}$\n",
    "* Note that the `anchor`, `positive` and `negative` encodings are of shape `(m,128)`, where m is the number of training examples and 128 is the number of elements used to encode a single example.\n",
    "* For steps 1 and 2, you will maintain the number of `m` training examples and sum along the 128 values of each encoding. \n",
    "[tf.reduce_sum](https://www.tensorflow.org/api_docs/python/tf/math/reduce_sum) has an `axis` parameter.  This chooses along which axis the sums are applied.  \n",
    "* Note that one way to choose the last axis in a tensor is to use negative indexing (`axis=-1`).\n",
    "* In step 4, when summing over training examples, the result will be a single scalar value.\n",
    "* For `tf.reduce_sum` to sum across all axes, keep the default value `axis=None`."
   ]
  },
  {
   "cell_type": "code",
   "execution_count": 5,
   "metadata": {
    "collapsed": true
   },
   "outputs": [],
   "source": [
    "# GRADED FUNCTION: triplet_loss\n",
    "\n",
    "def triplet_loss(y_true, y_pred, alpha = 0.2):\n",
    "    \"\"\"\n",
    "    Implementation of the triplet loss as defined by formula (3)\n",
    "    \n",
    "    Arguments:\n",
    "    y_true -- true labels, required when you define a loss in Keras, you don't need it in this function.\n",
    "    y_pred -- python list containing three objects:\n",
    "            anchor -- the encodings for the anchor images, of shape (None, 128)\n",
    "            positive -- the encodings for the positive images, of shape (None, 128)\n",
    "            negative -- the encodings for the negative images, of shape (None, 128)\n",
    "    \n",
    "    Returns:\n",
    "    loss -- real number, value of the loss\n",
    "    \"\"\"\n",
    "    \n",
    "    anchor, positive, negative = y_pred[0], y_pred[1], y_pred[2]\n",
    "    \n",
    "    ### START CODE HERE ### (≈ 4 lines)\n",
    "    # Step 1: Compute the (encoding) distance between the anchor and the positive\n",
    "    pos_dist = tf.reduce_sum(tf.square(tf.subtract(anchor,positive)),axis=-1)\n",
    "    # Step 2: Compute the (encoding) distance between the anchor and the negative\n",
    "    neg_dist = tf.reduce_sum(tf.square(tf.subtract(anchor,negative)),axis=-1)\n",
    "    # Step 3: subtract the two previous distances and add alpha.\n",
    "    basic_loss = tf.add(tf.subtract(pos_dist,neg_dist),alpha)\n",
    "    # Step 4: Take the maximum of basic_loss and 0.0. Sum over the training examples.\n",
    "    loss = tf.reduce_sum(tf.maximum(basic_loss,0))\n",
    "    ### END CODE HERE ###\n",
    "    \n",
    "    return loss"
   ]
  },
  {
   "cell_type": "code",
   "execution_count": 6,
   "metadata": {},
   "outputs": [
    {
     "name": "stdout",
     "output_type": "stream",
     "text": [
      "loss = 528.143\n"
     ]
    }
   ],
   "source": [
    "with tf.Session() as test:\n",
    "    tf.set_random_seed(1)\n",
    "    y_true = (None, None, None)\n",
    "    y_pred = (tf.random_normal([3, 128], mean=6, stddev=0.1, seed = 1),\n",
    "              tf.random_normal([3, 128], mean=1, stddev=1, seed = 1),\n",
    "              tf.random_normal([3, 128], mean=3, stddev=4, seed = 1))\n",
    "    loss = triplet_loss(y_true, y_pred)\n",
    "    \n",
    "    print(\"loss = \" + str(loss.eval()))"
   ]
  },
  {
   "cell_type": "markdown",
   "metadata": {},
   "source": [
    "**Expected Output**:\n",
    "\n",
    "<table>\n",
    "    <tr>\n",
    "        <td>\n",
    "            **loss**\n",
    "        </td>\n",
    "        <td>\n",
    "           528.143\n",
    "        </td>\n",
    "    </tr>\n",
    "\n",
    "</table>"
   ]
  },
  {
   "cell_type": "markdown",
   "metadata": {},
   "source": [
    "## 2 - Loading the pre-trained model\n",
    "\n",
    "FaceNet is trained by minimizing the triplet loss. But since training requires a lot of data and a lot of computation, we won't train it from scratch here. Instead, we load a previously trained model. Load a model using the following cell; this might take a couple of minutes to run. "
   ]
  },
  {
   "cell_type": "code",
   "execution_count": 7,
   "metadata": {
    "collapsed": true
   },
   "outputs": [],
   "source": [
    "FRmodel.compile(optimizer = 'adam', loss = triplet_loss, metrics = ['accuracy'])\n",
    "load_weights_from_FaceNet(FRmodel)"
   ]
  },
  {
   "cell_type": "markdown",
   "metadata": {},
   "source": [
    "Here are some examples of distances between the encodings between three individuals:\n",
    "\n",
    "<img src=\"images/distance_matrix.png\" style=\"width:380px;height:200px;\">\n",
    "<br>\n",
    "<caption><center> <u> <font color='purple'> **Figure 4**:</u> <br>  <font color='purple'> Example of distance outputs between three individuals' encodings</center></caption>\n",
    "\n",
    "Let's now use this model to perform face verification and face recognition! "
   ]
  },
  {
   "cell_type": "markdown",
   "metadata": {},
   "source": [
    "## 3 - Applying the model"
   ]
  },
  {
   "cell_type": "markdown",
   "metadata": {},
   "source": [
    "You are building a system for an office building where the building manager  would like to offer facial recognition to allow the employees to enter the building.\n",
    "\n",
    "You'd like to build a **Face verification** system that gives access to the list of people who live or work there. To get admitted, each person has to swipe an ID card (identification card) to identify themselves at the entrance. The face recognition system then checks that they are who they claim to be."
   ]
  },
  {
   "cell_type": "markdown",
   "metadata": {},
   "source": [
    "### 3.1 - Face Verification\n",
    "\n",
    "Let's build a database containing one encoding vector for each person who is allowed to enter the office. To generate the encoding we use `img_to_encoding(image_path, model)`, which runs the forward propagation of the model on the specified image. \n",
    "\n",
    "Run the following code to build the database (represented as a python dictionary). This database maps each person's name to a 128-dimensional encoding of their face."
   ]
  },
  {
   "cell_type": "code",
   "execution_count": 8,
   "metadata": {
    "collapsed": true
   },
   "outputs": [],
   "source": [
    "database = {}\n",
    "database[\"danielle\"] = img_to_encoding(\"images/danielle.png\", FRmodel)\n",
    "database[\"younes\"] = img_to_encoding(\"images/younes.jpg\", FRmodel)\n",
    "database[\"tian\"] = img_to_encoding(\"images/tian.jpg\", FRmodel)\n",
    "database[\"andrew\"] = img_to_encoding(\"images/andrew.jpg\", FRmodel)\n",
    "database[\"kian\"] = img_to_encoding(\"images/kian.jpg\", FRmodel)\n",
    "database[\"dan\"] = img_to_encoding(\"images/dan.jpg\", FRmodel)\n",
    "database[\"sebastiano\"] = img_to_encoding(\"images/sebastiano.jpg\", FRmodel)\n",
    "database[\"bertrand\"] = img_to_encoding(\"images/bertrand.jpg\", FRmodel)\n",
    "database[\"kevin\"] = img_to_encoding(\"images/kevin.jpg\", FRmodel)\n",
    "database[\"felix\"] = img_to_encoding(\"images/felix.jpg\", FRmodel)\n",
    "database[\"benoit\"] = img_to_encoding(\"images/benoit.jpg\", FRmodel)\n",
    "database[\"arnaud\"] = img_to_encoding(\"images/arnaud.jpg\", FRmodel)"
   ]
  },
  {
   "cell_type": "markdown",
   "metadata": {},
   "source": [
    "Now, when someone shows up at your front door and swipes their ID card (thus giving you their name), you can look up their encoding in the database, and use it to check if the person standing at the front door matches the name on the ID.\n",
    "\n",
    "**Exercise**: Implement the verify() function which checks if the front-door camera picture (`image_path`) is actually the person called \"identity\". You will have to go through the following steps:\n",
    "1. Compute the encoding of the image from `image_path`.\n",
    "2. Compute the distance between this encoding and the encoding of the identity image stored in the database.\n",
    "3. Open the door if the distance is less than 0.7, else do not open it.\n",
    "\n",
    "\n",
    "* As presented above, you should use the L2 distance [np.linalg.norm](https://docs.scipy.org/doc/numpy/reference/generated/numpy.linalg.norm.html). \n",
    "* (Note: In this implementation, compare the L2 distance, not the square of the L2 distance, to the threshold 0.7.) \n",
    "\n",
    "#### Hints\n",
    "* `identity` is a string that is also a key in the `database` dictionary.\n",
    "* `img_to_encoding` has two parameters: the `image_path` and `model`."
   ]
  },
  {
   "cell_type": "code",
   "execution_count": 9,
   "metadata": {
    "collapsed": true
   },
   "outputs": [],
   "source": [
    "# GRADED FUNCTION: verify\n",
    "\n",
    "def verify(image_path, identity, database, model):\n",
    "    \"\"\"\n",
    "    Function that verifies if the person on the \"image_path\" image is \"identity\".\n",
    "    \n",
    "    Arguments:\n",
    "    image_path -- path to an image\n",
    "    identity -- string, name of the person you'd like to verify the identity. Has to be an employee who works in the office.\n",
    "    database -- python dictionary mapping names of allowed people's names (strings) to their encodings (vectors).\n",
    "    model -- your Inception model instance in Keras\n",
    "    \n",
    "    Returns:\n",
    "    dist -- distance between the image_path and the image of \"identity\" in the database.\n",
    "    door_open -- True, if the door should open. False otherwise.\n",
    "    \"\"\"\n",
    "    \n",
    "    ### START CODE HERE ###\n",
    "    \n",
    "    # Step 1: Compute the encoding for the image. Use img_to_encoding() see example above. (≈ 1 line)\n",
    "    encoding = img_to_encoding(image_path,model)\n",
    "    \n",
    "    # Step 2: Compute distance with identity's image (≈ 1 line)\n",
    "    dist = np.linalg.norm(encoding-database[identity])\n",
    "    \n",
    "    # Step 3: Open the door if dist < 0.7, else don't open (≈ 3 lines)\n",
    "    if dist<=0.7:\n",
    "        print(\"It's \" + str(identity) + \", welcome in!\")\n",
    "        door_open = True\n",
    "    else:\n",
    "        print(\"It's not \" + str(identity) + \", please go away\")\n",
    "        door_open = False\n",
    "        \n",
    "    ### END CODE HERE ###\n",
    "        \n",
    "    return dist, door_open"
   ]
  },
  {
   "cell_type": "markdown",
   "metadata": {},
   "source": [
    "Younes is trying to enter the office and the camera takes a picture of him (\"images/camera_0.jpg\"). Let's run your verification algorithm on this picture:\n",
    "\n",
    "<img src=\"images/camera_0.jpg\" style=\"width:100px;height:100px;\">"
   ]
  },
  {
   "cell_type": "code",
   "execution_count": 10,
   "metadata": {},
   "outputs": [
    {
     "name": "stdout",
     "output_type": "stream",
     "text": [
      "It's younes, welcome in!\n"
     ]
    },
    {
     "data": {
      "text/plain": [
       "(0.65939289, True)"
      ]
     },
     "execution_count": 10,
     "metadata": {},
     "output_type": "execute_result"
    }
   ],
   "source": [
    "verify(\"images/camera_0.jpg\", \"younes\", database, FRmodel)"
   ]
  },
  {
   "cell_type": "markdown",
   "metadata": {},
   "source": [
    "**Expected Output**:\n",
    "\n",
    "<table>\n",
    "    <tr>\n",
    "        <td>\n",
    "            **It's younes, welcome in!**\n",
    "        </td>\n",
    "        <td>\n",
    "           (0.65939283, True)\n",
    "        </td>\n",
    "    </tr>\n",
    "\n",
    "</table>"
   ]
  },
  {
   "cell_type": "markdown",
   "metadata": {},
   "source": [
    "Benoit, who does not work in the office, stole Kian's ID card and tried to enter the office. The camera took a picture of Benoit (\"images/camera_2.jpg). Let's run the verification algorithm to check if benoit can enter.\n",
    "<img src=\"images/camera_2.jpg\" style=\"width:100px;height:100px;\">"
   ]
  },
  {
   "cell_type": "code",
   "execution_count": 11,
   "metadata": {},
   "outputs": [
    {
     "name": "stdout",
     "output_type": "stream",
     "text": [
      "It's not kian, please go away\n"
     ]
    },
    {
     "data": {
      "text/plain": [
       "(0.86224014, False)"
      ]
     },
     "execution_count": 11,
     "metadata": {},
     "output_type": "execute_result"
    }
   ],
   "source": [
    "verify(\"images/camera_2.jpg\", \"kian\", database, FRmodel)"
   ]
  },
  {
   "cell_type": "markdown",
   "metadata": {},
   "source": [
    "**Expected Output**:\n",
    "\n",
    "<table>\n",
    "    <tr>\n",
    "        <td>\n",
    "            **It's not kian, please go away**\n",
    "        </td>\n",
    "        <td>\n",
    "           (0.86224014, False)\n",
    "        </td>\n",
    "    </tr>\n",
    "\n",
    "</table>"
   ]
  },
  {
   "cell_type": "markdown",
   "metadata": {},
   "source": [
    "### 3.2 - Face Recognition\n",
    "\n",
    "Your face verification system is mostly working well. But since Kian got his ID card stolen, when he came back to the office the next day and couldn't get in! \n",
    "\n",
    "To solve this, you'd like to change your face verification system to a face recognition system. This way, no one has to carry an ID card anymore. An authorized person can just walk up to the building, and the door will unlock for them! \n",
    "\n",
    "You'll implement a face recognition system that takes as input an image, and figures out if it is one of the authorized persons (and if so, who). Unlike the previous face verification system, we will no longer get a person's name as one of the inputs. \n",
    "\n",
    "**Exercise**: Implement `who_is_it()`. You will have to go through the following steps:\n",
    "1. Compute the target encoding of the image from image_path\n",
    "2. Find the encoding from the database that has smallest distance with the target encoding. \n",
    "    - Initialize the `min_dist` variable to a large enough number (100). It will help you keep track of what is the closest encoding to the input's encoding.\n",
    "    - Loop over the database dictionary's names and encodings. To loop use `for (name, db_enc) in database.items()`.\n",
    "        - Compute the L2 distance between the target \"encoding\" and the current \"encoding\" from the database.\n",
    "        - If this distance is less than the min_dist, then set `min_dist` to `dist`, and `identity` to `name`."
   ]
  },
  {
   "cell_type": "code",
   "execution_count": 12,
   "metadata": {
    "collapsed": true
   },
   "outputs": [],
   "source": [
    "# GRADED FUNCTION: who_is_it\n",
    "\n",
    "def who_is_it(image_path, database, model):\n",
    "    \"\"\"\n",
    "    Implements face recognition for the office by finding who is the person on the image_path image.\n",
    "    \n",
    "    Arguments:\n",
    "    image_path -- path to an image\n",
    "    database -- database containing image encodings along with the name of the person on the image\n",
    "    model -- your Inception model instance in Keras\n",
    "    \n",
    "    Returns:\n",
    "    min_dist -- the minimum distance between image_path encoding and the encodings from the database\n",
    "    identity -- string, the name prediction for the person on image_path\n",
    "    \"\"\"\n",
    "    \n",
    "    ### START CODE HERE ### \n",
    "    \n",
    "    ## Step 1: Compute the target \"encoding\" for the image. Use img_to_encoding() see example above. ## (≈ 1 line)\n",
    "    encoding = img_to_encoding(image_path, model)\n",
    "    \n",
    "    ## Step 2: Find the closest encoding ##\n",
    "    \n",
    "    # Initialize \"min_dist\" to a large value, say 100 (≈1 line)\n",
    "    min_dist = 100\n",
    "    \n",
    "    # Loop over the database dictionary's names and encodings.\n",
    "    for (name, db_enc) in database.items():\n",
    "        \n",
    "        # Compute L2 distance between the target \"encoding\" and the current db_enc from the database. (≈ 1 line)\n",
    "        dist = np.linalg.norm(db_enc-encoding)\n",
    "\n",
    "        # If this distance is less than the min_dist, then set min_dist to dist, and identity to name. (≈ 3 lines)\n",
    "        if dist<=min_dist:\n",
    "            min_dist = dist\n",
    "            identity = name\n",
    "\n",
    "    ### END CODE HERE ###\n",
    "    \n",
    "    if min_dist > 0.7:\n",
    "        print(\"Not in the database.\")\n",
    "    else:\n",
    "        print (\"it's \" + str(identity) + \", the distance is \" + str(min_dist))\n",
    "        \n",
    "    return min_dist, identity"
   ]
  },
  {
   "cell_type": "markdown",
   "metadata": {},
   "source": [
    "Younes is at the front-door and the camera takes a picture of him (\"images/camera_0.jpg\"). Let's see if your who_it_is() algorithm identifies Younes. "
   ]
  },
  {
   "cell_type": "code",
   "execution_count": 13,
   "metadata": {
    "scrolled": false
   },
   "outputs": [
    {
     "name": "stdout",
     "output_type": "stream",
     "text": [
      "it's younes, the distance is 0.659393\n"
     ]
    },
    {
     "data": {
      "text/plain": [
       "(0.65939289, 'younes')"
      ]
     },
     "execution_count": 13,
     "metadata": {},
     "output_type": "execute_result"
    }
   ],
   "source": [
    "who_is_it(\"images/camera_0.jpg\", database, FRmodel)"
   ]
  },
  {
   "cell_type": "markdown",
   "metadata": {},
   "source": [
    "**Expected Output**:\n",
    "\n",
    "<table>\n",
    "    <tr>\n",
    "        <td>\n",
    "            **it's younes, the distance is 0.659393**\n",
    "        </td>\n",
    "        <td>\n",
    "           (0.65939283, 'younes')\n",
    "        </td>\n",
    "    </tr>\n",
    "\n",
    "</table>"
   ]
  },
  {
   "cell_type": "markdown",
   "metadata": {},
   "source": [
    "You can change \"`camera_0.jpg`\" (picture of younes) to \"`camera_1.jpg`\" (picture of bertrand) and see the result."
   ]
  },
  {
   "cell_type": "markdown",
   "metadata": {},
   "source": [
    "#### Congratulations!\n",
    "\n",
    "* Your face recognition system is working well! It only lets in authorized persons, and people don't need to carry an ID card around anymore! \n",
    "* You've now seen how a state-of-the-art face recognition system works.\n",
    "\n",
    "#### Ways to improve your facial recognition model\n",
    "Although we won't implement it here, here are some ways to further improve the algorithm:\n",
    "- Put more images of each person (under different lighting conditions, taken on different days, etc.) into the database. Then given a new image, compare the new face to multiple pictures of the person. This would increase accuracy.\n",
    "- Crop the images to just contain the face, and less of the \"border\" region around the face. This preprocessing removes some of the irrelevant pixels around the face, and also makes the algorithm more robust.\n"
   ]
  },
  {
   "cell_type": "markdown",
   "metadata": {},
   "source": [
    "## Key points to remember\n",
    "- Face verification solves an easier 1:1 matching problem; face recognition addresses a harder 1:K matching problem. \n",
    "- The triplet loss is an effective loss function for training a neural network to learn an encoding of a face image.\n",
    "- The same encoding can be used for verification and recognition. Measuring distances between two images' encodings allows you to determine whether they are pictures of the same person. "
   ]
  },
  {
   "cell_type": "markdown",
   "metadata": {},
   "source": [
    "Congrats on finishing this assignment! \n"
   ]
  },
  {
   "cell_type": "markdown",
   "metadata": {},
   "source": [
    "### References:\n",
    "\n",
    "- Florian Schroff, Dmitry Kalenichenko, James Philbin (2015). [FaceNet: A Unified Embedding for Face Recognition and Clustering](https://arxiv.org/pdf/1503.03832.pdf)\n",
    "- Yaniv Taigman, Ming Yang, Marc'Aurelio Ranzato, Lior Wolf (2014). [DeepFace: Closing the gap to human-level performance in face verification](https://research.fb.com/wp-content/uploads/2016/11/deepface-closing-the-gap-to-human-level-performance-in-face-verification.pdf) \n",
    "- The pretrained model we use is inspired by Victor Sy Wang's implementation and was loaded using his code: https://github.com/iwantooxxoox/Keras-OpenFace.\n",
    "- Our implementation also took a lot of inspiration from the official FaceNet github repository: https://github.com/davidsandberg/facenet \n"
   ]
  }
 ],
 "metadata": {
  "coursera": {
   "course_slug": "convolutional-neural-networks",
   "graded_item_id": "IaknP",
   "launcher_item_id": "5UMr4"
  },
  "kernelspec": {
   "display_name": "Python 3",
   "language": "python",
   "name": "python3"
  },
  "language_info": {
   "codemirror_mode": {
    "name": "ipython",
    "version": 3
   },
   "file_extension": ".py",
   "mimetype": "text/x-python",
   "name": "python",
   "nbconvert_exporter": "python",
   "pygments_lexer": "ipython3",
   "version": "3.7.3"
  }
 },
 "nbformat": 4,
 "nbformat_minor": 2
}
